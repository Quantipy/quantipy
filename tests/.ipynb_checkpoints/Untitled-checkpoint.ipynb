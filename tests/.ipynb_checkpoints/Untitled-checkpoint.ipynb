{
 "cells": [
  {
   "cell_type": "code",
   "execution_count": 1,
   "metadata": {},
   "outputs": [
    {
     "name": "stdout",
     "output_type": "stream",
     "text": [
      "3.6.9 |Anaconda, Inc.| (default, Jul 30 2019, 19:07:31) \n",
      "[GCC 7.3.0]\n"
     ]
    }
   ],
   "source": [
    "import os\n",
    "import sys\n",
    "print(sys.version)\n",
    "\n",
    "from IPython.core.interactiveshell import InteractiveShell\n",
    "InteractiveShell.ast_node_interactivity = \"all\"\n",
    "\n",
    "import quantipy as qp"
   ]
  },
  {
   "cell_type": "code",
   "execution_count": 2,
   "metadata": {},
   "outputs": [],
   "source": [
    "if 0:\n",
    "    batch_meta = qp.core.tools.functions.load_json(\"batch_meta.json\")\n",
    "    ds_meta = qp.core.tools.functions.load_json(\"data/Example Data (A).json\")\n",
    "    ds_meta[\"sets\"][\"batches\"] = {}\n",
    "    ds_meta[\"sets\"][\"batches\"][\"old_batch\"] = batch_meta\n",
    "    qp.core.tools.functions.save_json(ds_meta, \"data/Example Data (A)2.json\")"
   ]
  },
  {
   "cell_type": "code",
   "execution_count": 3,
   "metadata": {
    "scrolled": false
   },
   "outputs": [
    {
     "name": "stderr",
     "output_type": "stream",
     "text": [
      "INFO : quantipy.core.meta add_meta --> Overwriting meta for '@1'\n",
      "INFO : quantipy.core.dataset _verbose_io --> Load qp.DataSet from 'quantipy' data: 'Example Data (A)2' ('/home/kerstin/Desktop/dev/quantipy/tests/data')\n"
     ]
    }
   ],
   "source": [
    "NAME = \"Example Data (A)\"\n",
    "DATA = os.path.join(os.getcwd(), \"data\")\n",
    "\n",
    "name = NAME\n",
    "path = DATA\n",
    "ds = qp.DataSet.from_quantipy(name, path)\n"
   ]
  },
  {
   "cell_type": "code",
   "execution_count": 4,
   "metadata": {},
   "outputs": [],
   "source": [
    "name = \"test\"\n",
    "b = qp.Batch(ds, name, 'c', 'weight', .05)\n",
    "batch = ds._meta[\"sets\"][\"batches\"][name]\n"
   ]
  },
  {
   "cell_type": "code",
   "execution_count": 5,
   "metadata": {},
   "outputs": [],
   "source": [
    "b.filter = (\"men_only\", {\"gender\": 1})"
   ]
  },
  {
   "cell_type": "code",
   "execution_count": 6,
   "metadata": {},
   "outputs": [
    {
     "data": {
      "text/plain": [
       "'men_only'"
      ]
     },
     "execution_count": 6,
     "metadata": {},
     "output_type": "execute_result"
    }
   ],
   "source": [
    "b.filter"
   ]
  },
  {
   "cell_type": "code",
   "execution_count": 7,
   "metadata": {},
   "outputs": [
    {
     "data": {
      "text/plain": [
       "[]"
      ]
     },
     "execution_count": 7,
     "metadata": {},
     "output_type": "execute_result"
    }
   ],
   "source": [
    "b.verbatims"
   ]
  },
  {
   "cell_type": "code",
   "execution_count": 14,
   "metadata": {},
   "outputs": [],
   "source": [
    "b.set_verbatims(\"gender\", \"age\", filter_by=(\"female only\", {\"gender\": 2}))"
   ]
  },
  {
   "cell_type": "code",
   "execution_count": 9,
   "metadata": {},
   "outputs": [],
   "source": [
    "b.set_verbatims(\"gender\", \"age\", title=\"lala\")"
   ]
  },
  {
   "cell_type": "code",
   "execution_count": 10,
   "metadata": {},
   "outputs": [
    {
     "data": {
      "text/plain": [
       "[{'title': 'open ends',\n",
       "  'filter': 'men_only',\n",
       "  'columns': ['gender'],\n",
       "  'break_by': ['age'],\n",
       "  'incl_nan': False,\n",
       "  'drop_empty': True,\n",
       "  'replace': {}},\n",
       " {'title': 'lala',\n",
       "  'filter': 'men_only',\n",
       "  'columns': ['gender'],\n",
       "  'break_by': ['age'],\n",
       "  'incl_nan': False,\n",
       "  'drop_empty': True,\n",
       "  'replace': {}}]"
      ]
     },
     "execution_count": 10,
     "metadata": {},
     "output_type": "execute_result"
    }
   ],
   "source": [
    "b.verbatims"
   ]
  },
  {
   "cell_type": "code",
   "execution_count": 11,
   "metadata": {},
   "outputs": [],
   "source": [
    "b.del_verbatims(\"open ends\")"
   ]
  },
  {
   "cell_type": "code",
   "execution_count": 12,
   "metadata": {},
   "outputs": [
    {
     "data": {
      "text/plain": [
       "[{'title': 'open ends',\n",
       "  'filter': 'men_only',\n",
       "  'columns': ['gender'],\n",
       "  'break_by': ['age'],\n",
       "  'incl_nan': False,\n",
       "  'drop_empty': True,\n",
       "  'replace': {}},\n",
       " {'title': 'lala',\n",
       "  'filter': 'men_only',\n",
       "  'columns': ['gender'],\n",
       "  'break_by': ['age'],\n",
       "  'incl_nan': False,\n",
       "  'drop_empty': True,\n",
       "  'replace': {}}]"
      ]
     },
     "execution_count": 12,
     "metadata": {},
     "output_type": "execute_result"
    }
   ],
   "source": [
    "b.verbatims"
   ]
  },
  {
   "cell_type": "code",
   "execution_count": 15,
   "metadata": {},
   "outputs": [
    {
     "data": {
      "text/html": [
       "<div>\n",
       "<table border=\"1\" class=\"dataframe\">\n",
       "  <thead>\n",
       "    <tr style=\"text-align: right;\">\n",
       "      <th>delimited set</th>\n",
       "      <th>codes</th>\n",
       "      <th>texts</th>\n",
       "      <th>missing</th>\n",
       "    </tr>\n",
       "    <tr>\n",
       "      <th>femaleonly: femaleonly</th>\n",
       "      <th></th>\n",
       "      <th></th>\n",
       "      <th></th>\n",
       "    </tr>\n",
       "  </thead>\n",
       "  <tbody>\n",
       "    <tr>\n",
       "      <th>0</th>\n",
       "      <td>0</td>\n",
       "      <td>keep</td>\n",
       "      <td></td>\n",
       "    </tr>\n",
       "    <tr>\n",
       "      <th>1</th>\n",
       "      <td>1</td>\n",
       "      <td>1</td>\n",
       "      <td></td>\n",
       "    </tr>\n",
       "  </tbody>\n",
       "</table>\n",
       "</div>"
      ],
      "text/plain": [
       "delimited set           codes texts missing\n",
       "femaleonly: femaleonly                     \n",
       "0                           0  keep        \n",
       "1                           1     1        "
      ]
     },
     "execution_count": 15,
     "metadata": {},
     "output_type": "execute_result"
    }
   ],
   "source": [
    "ds.describe(\"femaleonly\")"
   ]
  },
  {
   "cell_type": "code",
   "execution_count": null,
   "metadata": {},
   "outputs": [],
   "source": [
    "b.meta.describe(\"femaleonly\")"
   ]
  },
  {
   "cell_type": "code",
   "execution_count": null,
   "metadata": {},
   "outputs": [],
   "source": [
    "ds.variables()"
   ]
  },
  {
   "cell_type": "code",
   "execution_count": null,
   "metadata": {},
   "outputs": [],
   "source": [
    "ds.set_hiding(\"q6\", 1, hide_values=False, axis=\"x\")"
   ]
  },
  {
   "cell_type": "code",
   "execution_count": null,
   "metadata": {},
   "outputs": [],
   "source": [
    "ds._meta[\"columns\"][\"q6_1\"]"
   ]
  },
  {
   "cell_type": "code",
   "execution_count": null,
   "metadata": {},
   "outputs": [],
   "source": [
    "ds._meta[\"masks\"][\"q6\"]"
   ]
  },
  {
   "cell_type": "code",
   "execution_count": null,
   "metadata": {},
   "outputs": [],
   "source": [
    "ds.get_rules(\"q6\")"
   ]
  },
  {
   "cell_type": "code",
   "execution_count": null,
   "metadata": {},
   "outputs": [],
   "source": [
    "ds.get_rules(\"q6\").pop(\"dropx\")"
   ]
  },
  {
   "cell_type": "code",
   "execution_count": null,
   "metadata": {},
   "outputs": [],
   "source": [
    "[('q1', ['@', 'gender', 'q2b']), ('q2', ['@', 'gender', 'q2b']), ('q2b', ['@', 'gender', 'q2b']), ('q3', ['@', 'gender', 'q2b']), ('q4', ['@', 'gender', 'q2b']), ('q5', ['@']), ('q5_1', ['@', 'gender', 'q2b']), ('q5_2', ['@', 'gender', 'q2b']), ('q5_3', ['@', 'gender', 'q2b']), ('q5_4', ['@', 'gender', 'q2b']), ('q5_5', ['@', 'gender', 'q2b']), ('q5_6', ['@', 'gender', 'q2b'])]\n",
    "[('q1', ['@', 'gender', 'q2b']), ('q2', ['@', 'gender', 'q2b']), ('q2b', ['@', 'gender', 'q2b']), ('q3', ['@', 'gender', 'q2b']), ('q4', ['@', 'gender', 'q2b']), ('q5', ['@']), ('q5_1', ['@', 'gender', 'q2b']), ('q5_2', ['@', 'gender', 'q2b']), ('q5_3', ['@', 'gender', 'q2b']), ('q5_4', ['@', 'gender', 'q2b']), ('q5_5', ['@', 'gender', 'q2b']), ('q5_6', ['@', 'gender', 'q2b'])]\n",
    "[('q1', ['gender', 'q2b']), ('q2', ['gender', 'q2b']), ('q2b', ['gender', 'q2b']), ('q3', ['gender', 'q2b']), ('q4', ['gender', 'q2b']), ('q5', ['@']), ('q5_1', ['gender', 'q2b']), ('q5_2', ['gender', 'q2b']), ('q5_3', ['gender', 'q2b']), ('q5_4', ['gender', 'q2b']), ('q5_5', ['gender', 'q2b']), ('q5_6', ['gender', 'q2b'])]\n"
   ]
  },
  {
   "cell_type": "code",
   "execution_count": null,
   "metadata": {},
   "outputs": [],
   "source": [
    "raise"
   ]
  },
  {
   "cell_type": "code",
   "execution_count": null,
   "metadata": {},
   "outputs": [],
   "source": [
    "b.name\n",
    "batch[\"name\"]\n",
    "# ---------------------------\n",
    "print('*'*60) \n",
    "b.cell_items\n",
    "batch[\"cell_items\"]\n",
    "# ---------------------------\n",
    "print('*'*60) \n",
    "b.weights\n",
    "batch[\"weights\"]\n",
    "# ---------------------------\n",
    "print('*'*60) \n",
    "b.sigproperties\n",
    "batch[\"sigproperties\"]"
   ]
  },
  {
   "cell_type": "code",
   "execution_count": null,
   "metadata": {},
   "outputs": [],
   "source": [
    "ds.batches"
   ]
  },
  {
   "cell_type": "code",
   "execution_count": null,
   "metadata": {},
   "outputs": [],
   "source": [
    "b.downbreaks = ['q1', 'q2', 'q6', 'age']\n",
    "b.add_downbreak(['q1', 'q2', 'q6', 'age'])"
   ]
  },
  {
   "cell_type": "raw",
   "metadata": {},
   "source": [
    "b.crossbreaks = ['gender', 'q2']\n",
    "b.add_open_ends(['q8a', 'q9a'], 'RecordNo')\n",
    "b.set_filter('men_only')\n",
    "# b.weights = 'weight_a'"
   ]
  }
 ],
 "metadata": {
  "kernelspec": {
   "display_name": "Python 3",
   "language": "python",
   "name": "python3"
  },
  "language_info": {
   "codemirror_mode": {
    "name": "ipython",
    "version": 3
   },
   "file_extension": ".py",
   "mimetype": "text/x-python",
   "name": "python",
   "nbconvert_exporter": "python",
   "pygments_lexer": "ipython3",
   "version": "3.6.9"
  }
 },
 "nbformat": 4,
 "nbformat_minor": 2
}
