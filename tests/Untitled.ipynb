{
 "cells": [
  {
   "cell_type": "code",
   "execution_count": 1,
   "metadata": {},
   "outputs": [
    {
     "name": "stdout",
     "output_type": "stream",
     "text": [
      "3.6.9 |Anaconda, Inc.| (default, Jul 30 2019, 19:07:31) \n",
      "[GCC 7.3.0]\n"
     ]
    }
   ],
   "source": [
    "import os\n",
    "import sys\n",
    "print(sys.version)\n",
    "\n",
    "from IPython.core.interactiveshell import InteractiveShell\n",
    "InteractiveShell.ast_node_interactivity = \"all\"\n",
    "\n",
    "import quantipy as qp"
   ]
  },
  {
   "cell_type": "code",
   "execution_count": 2,
   "metadata": {
    "scrolled": false
   },
   "outputs": [
    {
     "name": "stderr",
     "output_type": "stream",
     "text": [
      "INFO : quantipy.core.meta add_meta --> Overwriting meta for '@1'\n",
      "INFO : quantipy.core.dataset _verbose_io --> Load qp.DataSet from 'quantipy' data: 'Example Data (A)' ('/home/kerstin/Desktop/dev/quantipy/tests/data')\n"
     ]
    }
   ],
   "source": [
    "NAME = \"Example Data (A)\"\n",
    "DATA = os.path.join(os.getcwd(), \"data\")\n",
    "\n",
    "name = NAME\n",
    "path = DATA\n",
    "ds = qp.DataSet.from_quantipy(name, path)\n"
   ]
  },
  {
   "cell_type": "code",
   "execution_count": 22,
   "metadata": {},
   "outputs": [
    {
     "name": "stderr",
     "output_type": "stream",
     "text": [
      "INFO : quantipy.core.batch __init__ --> Load batch: old_batch\n"
     ]
    },
    {
     "ename": "KeyError",
     "evalue": "'masks'",
     "output_type": "error",
     "traceback": [
      "\u001b[0;31m---------------------------------------------------------------------------\u001b[0m",
      "\u001b[0;31mKeyError\u001b[0m                                  Traceback (most recent call last)",
      "\u001b[0;32m<ipython-input-22-b03b9c67f665>\u001b[0m in \u001b[0;36m<module>\u001b[0;34m\u001b[0m\n\u001b[0;32m----> 1\u001b[0;31m \u001b[0mds\u001b[0m\u001b[0;34m.\u001b[0m\u001b[0mget_batch\u001b[0m\u001b[0;34m(\u001b[0m\u001b[0;34m\"old_batch\"\u001b[0m\u001b[0;34m)\u001b[0m\u001b[0;34m\u001b[0m\u001b[0;34m\u001b[0m\u001b[0m\n\u001b[0m",
      "\u001b[0;32m~/Desktop/dev/quantipy/quantipy/core/dataset.py\u001b[0m in \u001b[0;36mget_batch\u001b[0;34m(self, name)\u001b[0m\n\u001b[1;32m   2580\u001b[0m             \u001b[0;32mreturn\u001b[0m \u001b[0;34m[\u001b[0m\u001b[0mBatch\u001b[0m\u001b[0;34m(\u001b[0m\u001b[0mself\u001b[0m\u001b[0;34m,\u001b[0m \u001b[0mb\u001b[0m\u001b[0;34m)\u001b[0m \u001b[0;32mfor\u001b[0m \u001b[0mb\u001b[0m \u001b[0;32min\u001b[0m \u001b[0mself\u001b[0m\u001b[0;34m.\u001b[0m\u001b[0mbatches\u001b[0m\u001b[0;34m]\u001b[0m\u001b[0;34m\u001b[0m\u001b[0;34m\u001b[0m\u001b[0m\n\u001b[1;32m   2581\u001b[0m         \u001b[0;32melif\u001b[0m \u001b[0mname\u001b[0m \u001b[0;32min\u001b[0m \u001b[0mself\u001b[0m\u001b[0;34m.\u001b[0m\u001b[0mbatches\u001b[0m\u001b[0;34m:\u001b[0m\u001b[0;34m\u001b[0m\u001b[0;34m\u001b[0m\u001b[0m\n\u001b[0;32m-> 2582\u001b[0;31m             \u001b[0;32mreturn\u001b[0m \u001b[0mBatch\u001b[0m\u001b[0;34m(\u001b[0m\u001b[0mself\u001b[0m\u001b[0;34m,\u001b[0m \u001b[0mname\u001b[0m\u001b[0;34m)\u001b[0m\u001b[0;34m\u001b[0m\u001b[0;34m\u001b[0m\u001b[0m\n\u001b[0m\u001b[1;32m   2583\u001b[0m         \u001b[0;32melse\u001b[0m\u001b[0;34m:\u001b[0m\u001b[0;34m\u001b[0m\u001b[0;34m\u001b[0m\u001b[0m\n\u001b[1;32m   2584\u001b[0m             \u001b[0merr\u001b[0m \u001b[0;34m=\u001b[0m \u001b[0;34m\"'{}' is not a valid batch.\"\u001b[0m\u001b[0;34m.\u001b[0m\u001b[0mformat\u001b[0m\u001b[0;34m(\u001b[0m\u001b[0mname\u001b[0m\u001b[0;34m)\u001b[0m\u001b[0;34m\u001b[0m\u001b[0;34m\u001b[0m\u001b[0m\n",
      "\u001b[0;32m~/Desktop/dev/quantipy/quantipy/core/batch.py\u001b[0m in \u001b[0;36m__init__\u001b[0;34m(self, dataset, name, ci, weights, tests)\u001b[0m\n\u001b[1;32m     27\u001b[0m         \u001b[0;32mif\u001b[0m \u001b[0mname\u001b[0m \u001b[0;32min\u001b[0m \u001b[0mdataset\u001b[0m\u001b[0;34m.\u001b[0m\u001b[0mbatches\u001b[0m\u001b[0;34m:\u001b[0m\u001b[0;34m\u001b[0m\u001b[0;34m\u001b[0m\u001b[0m\n\u001b[1;32m     28\u001b[0m             \u001b[0mlogger\u001b[0m\u001b[0;34m.\u001b[0m\u001b[0minfo\u001b[0m\u001b[0;34m(\u001b[0m\u001b[0;34m\"Load batch: {}\"\u001b[0m\u001b[0;34m.\u001b[0m\u001b[0mformat\u001b[0m\u001b[0;34m(\u001b[0m\u001b[0mname\u001b[0m\u001b[0;34m)\u001b[0m\u001b[0;34m)\u001b[0m\u001b[0;34m\u001b[0m\u001b[0;34m\u001b[0m\u001b[0m\n\u001b[0;32m---> 29\u001b[0;31m             \u001b[0mself\u001b[0m\u001b[0;34m.\u001b[0m\u001b[0m_load_batch\u001b[0m\u001b[0;34m(\u001b[0m\u001b[0;34m)\u001b[0m\u001b[0;34m\u001b[0m\u001b[0;34m\u001b[0m\u001b[0m\n\u001b[0m\u001b[1;32m     30\u001b[0m         \u001b[0;32melse\u001b[0m\u001b[0;34m:\u001b[0m\u001b[0;34m\u001b[0m\u001b[0;34m\u001b[0m\u001b[0m\n\u001b[1;32m     31\u001b[0m             \u001b[0mself\u001b[0m\u001b[0;34m.\u001b[0m\u001b[0m_start_batch\u001b[0m\u001b[0;34m(\u001b[0m\u001b[0;34m)\u001b[0m\u001b[0;34m\u001b[0m\u001b[0;34m\u001b[0m\u001b[0m\n",
      "\u001b[0;32m~/Desktop/dev/quantipy/quantipy/core/batch.py\u001b[0m in \u001b[0;36m_load_batch\u001b[0;34m(self)\u001b[0m\n\u001b[1;32m     59\u001b[0m             \u001b[0mvalues\u001b[0m \u001b[0;34m=\u001b[0m \u001b[0medits\u001b[0m\u001b[0;34m.\u001b[0m\u001b[0mpop\u001b[0m\u001b[0;34m(\u001b[0m\u001b[0;34m\"lib\"\u001b[0m\u001b[0;34m)\u001b[0m\u001b[0;34m\u001b[0m\u001b[0;34m\u001b[0m\u001b[0m\n\u001b[1;32m     60\u001b[0m             \u001b[0medits\u001b[0m\u001b[0;34m[\u001b[0m\u001b[0;34m\"lib\"\u001b[0m\u001b[0;34m]\u001b[0m \u001b[0;34m=\u001b[0m \u001b[0;34m{\u001b[0m\u001b[0;34m\"values\"\u001b[0m\u001b[0;34m:\u001b[0m \u001b[0mvalues\u001b[0m\u001b[0;34m}\u001b[0m\u001b[0;34m\u001b[0m\u001b[0;34m\u001b[0m\u001b[0m\n\u001b[0;32m---> 61\u001b[0;31m             \u001b[0mmeta\u001b[0m \u001b[0;34m=\u001b[0m \u001b[0mMeta\u001b[0m\u001b[0;34m(\u001b[0m\u001b[0medits\u001b[0m\u001b[0;34m)\u001b[0m\u001b[0;34m\u001b[0m\u001b[0;34m\u001b[0m\u001b[0m\n\u001b[0m\u001b[1;32m     62\u001b[0m             \u001b[0mbatch\u001b[0m\u001b[0;34m[\u001b[0m\u001b[0;34m\"meta\"\u001b[0m\u001b[0;34m]\u001b[0m \u001b[0;34m=\u001b[0m \u001b[0mmeta\u001b[0m\u001b[0;34m\u001b[0m\u001b[0;34m\u001b[0m\u001b[0m\n\u001b[1;32m     63\u001b[0m         \u001b[0;32mif\u001b[0m \u001b[0;34m\"language\"\u001b[0m \u001b[0;32min\u001b[0m \u001b[0mbatch\u001b[0m\u001b[0;34m:\u001b[0m\u001b[0;34m\u001b[0m\u001b[0;34m\u001b[0m\u001b[0m\n",
      "\u001b[0;32m~/Desktop/dev/quantipy/quantipy/core/meta.py\u001b[0m in \u001b[0;36m__init__\u001b[0;34m(self, json_dict)\u001b[0m\n\u001b[1;32m     12\u001b[0m             \u001b[0mjson_dict\u001b[0m \u001b[0;34m=\u001b[0m \u001b[0mself\u001b[0m\u001b[0;34m.\u001b[0m\u001b[0mstart_meta\u001b[0m\u001b[0;34m(\u001b[0m\u001b[0;34m)\u001b[0m\u001b[0;34m\u001b[0m\u001b[0;34m\u001b[0m\u001b[0m\n\u001b[1;32m     13\u001b[0m         \u001b[0mself\u001b[0m\u001b[0;34m.\u001b[0m\u001b[0mupdate\u001b[0m\u001b[0;34m(\u001b[0m\u001b[0mjson_dict\u001b[0m\u001b[0;34m)\u001b[0m\u001b[0;34m\u001b[0m\u001b[0;34m\u001b[0m\u001b[0m\n\u001b[0;32m---> 14\u001b[0;31m         \u001b[0mself\u001b[0m\u001b[0;34m.\u001b[0m\u001b[0m_repair_structure\u001b[0m\u001b[0;34m(\u001b[0m\u001b[0;34m)\u001b[0m\u001b[0;34m\u001b[0m\u001b[0;34m\u001b[0m\u001b[0m\n\u001b[0m\u001b[1;32m     15\u001b[0m \u001b[0;34m\u001b[0m\u001b[0m\n\u001b[1;32m     16\u001b[0m     \u001b[0;32mdef\u001b[0m \u001b[0m__getitem__\u001b[0m\u001b[0;34m(\u001b[0m\u001b[0mself\u001b[0m\u001b[0;34m,\u001b[0m \u001b[0mitem\u001b[0m\u001b[0;34m)\u001b[0m\u001b[0;34m:\u001b[0m\u001b[0;34m\u001b[0m\u001b[0;34m\u001b[0m\u001b[0m\n",
      "\u001b[0;32m~/Desktop/dev/quantipy/quantipy/core/meta.py\u001b[0m in \u001b[0;36m_repair_structure\u001b[0;34m(self)\u001b[0m\n\u001b[1;32m   2518\u001b[0m     \u001b[0;32mdef\u001b[0m \u001b[0m_repair_structure\u001b[0m\u001b[0;34m(\u001b[0m\u001b[0mself\u001b[0m\u001b[0;34m)\u001b[0m\u001b[0;34m:\u001b[0m\u001b[0;34m\u001b[0m\u001b[0;34m\u001b[0m\u001b[0m\n\u001b[1;32m   2519\u001b[0m         \u001b[0mparents\u001b[0m \u001b[0;34m=\u001b[0m \u001b[0;34m{\u001b[0m\u001b[0;34m}\u001b[0m\u001b[0;34m\u001b[0m\u001b[0;34m\u001b[0m\u001b[0m\n\u001b[0;32m-> 2520\u001b[0;31m         \u001b[0;32mfor\u001b[0m \u001b[0mmask\u001b[0m \u001b[0;32min\u001b[0m \u001b[0mself\u001b[0m\u001b[0;34m.\u001b[0m\u001b[0mmasks\u001b[0m\u001b[0;34m:\u001b[0m\u001b[0;34m\u001b[0m\u001b[0;34m\u001b[0m\u001b[0m\n\u001b[0m\u001b[1;32m   2521\u001b[0m             \u001b[0;31m# verify mask name\u001b[0m\u001b[0;34m\u001b[0m\u001b[0;34m\u001b[0m\u001b[0;34m\u001b[0m\u001b[0m\n\u001b[1;32m   2522\u001b[0m             \u001b[0mself\u001b[0m\u001b[0;34m[\u001b[0m\u001b[0;34m\"masks\"\u001b[0m\u001b[0;34m]\u001b[0m\u001b[0;34m[\u001b[0m\u001b[0mmask\u001b[0m\u001b[0;34m]\u001b[0m\u001b[0;34m[\u001b[0m\u001b[0;34m\"name\"\u001b[0m\u001b[0;34m]\u001b[0m \u001b[0;34m=\u001b[0m \u001b[0mmask\u001b[0m\u001b[0;34m\u001b[0m\u001b[0;34m\u001b[0m\u001b[0m\n",
      "\u001b[0;32m~/Desktop/dev/quantipy/quantipy/core/meta.py\u001b[0m in \u001b[0;36mmasks\u001b[0;34m(self)\u001b[0m\n\u001b[1;32m     75\u001b[0m     \u001b[0;34m@\u001b[0m\u001b[0mproperty\u001b[0m\u001b[0;34m\u001b[0m\u001b[0;34m\u001b[0m\u001b[0m\n\u001b[1;32m     76\u001b[0m     \u001b[0;32mdef\u001b[0m \u001b[0mmasks\u001b[0m\u001b[0;34m(\u001b[0m\u001b[0mself\u001b[0m\u001b[0;34m)\u001b[0m\u001b[0;34m:\u001b[0m\u001b[0;34m\u001b[0m\u001b[0;34m\u001b[0m\u001b[0m\n\u001b[0;32m---> 77\u001b[0;31m         \u001b[0;32mreturn\u001b[0m \u001b[0mlist\u001b[0m\u001b[0;34m(\u001b[0m\u001b[0mself\u001b[0m\u001b[0;34m[\u001b[0m\u001b[0;34m\"masks\"\u001b[0m\u001b[0;34m]\u001b[0m\u001b[0;34m.\u001b[0m\u001b[0mkeys\u001b[0m\u001b[0;34m(\u001b[0m\u001b[0;34m)\u001b[0m\u001b[0;34m)\u001b[0m\u001b[0;34m\u001b[0m\u001b[0;34m\u001b[0m\u001b[0m\n\u001b[0m\u001b[1;32m     78\u001b[0m \u001b[0;34m\u001b[0m\u001b[0m\n\u001b[1;32m     79\u001b[0m     \u001b[0;34m@\u001b[0m\u001b[0mproperty\u001b[0m\u001b[0;34m\u001b[0m\u001b[0;34m\u001b[0m\u001b[0m\n",
      "\u001b[0;32m~/Desktop/dev/quantipy/quantipy/core/meta.py\u001b[0m in \u001b[0;36m__getitem__\u001b[0;34m(self, item)\u001b[0m\n\u001b[1;32m     25\u001b[0m                 \u001b[0mobj\u001b[0m \u001b[0;34m=\u001b[0m \u001b[0mobj\u001b[0m\u001b[0;34m[\u001b[0m\u001b[0mi\u001b[0m\u001b[0;34m]\u001b[0m\u001b[0;34m\u001b[0m\u001b[0;34m\u001b[0m\u001b[0m\n\u001b[1;32m     26\u001b[0m         \u001b[0;32melse\u001b[0m\u001b[0;34m:\u001b[0m\u001b[0;34m\u001b[0m\u001b[0;34m\u001b[0m\u001b[0m\n\u001b[0;32m---> 27\u001b[0;31m             \u001b[0mobj\u001b[0m \u001b[0;34m=\u001b[0m \u001b[0mdict\u001b[0m\u001b[0;34m.\u001b[0m\u001b[0m__getitem__\u001b[0m\u001b[0;34m(\u001b[0m\u001b[0mself\u001b[0m\u001b[0;34m,\u001b[0m \u001b[0mitem\u001b[0m\u001b[0;34m)\u001b[0m\u001b[0;34m\u001b[0m\u001b[0;34m\u001b[0m\u001b[0m\n\u001b[0m\u001b[1;32m     28\u001b[0m         \u001b[0;32mreturn\u001b[0m \u001b[0mobj\u001b[0m\u001b[0;34m\u001b[0m\u001b[0;34m\u001b[0m\u001b[0m\n\u001b[1;32m     29\u001b[0m \u001b[0;34m\u001b[0m\u001b[0m\n",
      "\u001b[0;31mKeyError\u001b[0m: 'masks'"
     ]
    }
   ],
   "source": [
    "ds.get_batch(\"old_batch\")"
   ]
  },
  {
   "cell_type": "code",
   "execution_count": 3,
   "metadata": {},
   "outputs": [],
   "source": [
    "name = \"test\"\n",
    "b = qp.Batch(ds, name, 'c', 'weight', .05)\n",
    "batch = ds._meta[\"sets\"][\"batches\"][name]\n"
   ]
  },
  {
   "cell_type": "code",
   "execution_count": 4,
   "metadata": {},
   "outputs": [],
   "source": [
    "b.filter = (\"men_only\", {\"gender\": 1})"
   ]
  },
  {
   "cell_type": "code",
   "execution_count": 5,
   "metadata": {},
   "outputs": [
    {
     "data": {
      "text/plain": [
       "'men_only'"
      ]
     },
     "execution_count": 5,
     "metadata": {},
     "output_type": "execute_result"
    }
   ],
   "source": [
    "b.filter"
   ]
  },
  {
   "cell_type": "code",
   "execution_count": 6,
   "metadata": {},
   "outputs": [
    {
     "data": {
      "text/plain": [
       "[]"
      ]
     },
     "execution_count": 6,
     "metadata": {},
     "output_type": "execute_result"
    }
   ],
   "source": [
    "b.verbatims"
   ]
  },
  {
   "cell_type": "code",
   "execution_count": 7,
   "metadata": {},
   "outputs": [],
   "source": [
    "b.set_verbatims(\"gender\", \"age\", filter_by=(\"female only\", {\"gender\": 2}))"
   ]
  },
  {
   "cell_type": "code",
   "execution_count": 8,
   "metadata": {},
   "outputs": [],
   "source": [
    "b.set_verbatims(\"gender\", \"age\", title=\"lala\")"
   ]
  },
  {
   "cell_type": "code",
   "execution_count": 9,
   "metadata": {},
   "outputs": [
    {
     "data": {
      "text/plain": [
       "[{'title': 'open ends',\n",
       "  'filter': 'femaleonly',\n",
       "  'columns': ['gender'],\n",
       "  'break_by': ['age'],\n",
       "  'incl_nan': False,\n",
       "  'drop_empty': True,\n",
       "  'replace': {}},\n",
       " {'title': 'lala',\n",
       "  'filter': 'men_only',\n",
       "  'columns': ['gender'],\n",
       "  'break_by': ['age'],\n",
       "  'incl_nan': False,\n",
       "  'drop_empty': True,\n",
       "  'replace': {}}]"
      ]
     },
     "execution_count": 9,
     "metadata": {},
     "output_type": "execute_result"
    }
   ],
   "source": [
    "b.verbatims"
   ]
  },
  {
   "cell_type": "code",
   "execution_count": 10,
   "metadata": {},
   "outputs": [],
   "source": [
    "b.del_verbatims(\"open ends\")"
   ]
  },
  {
   "cell_type": "code",
   "execution_count": 11,
   "metadata": {},
   "outputs": [
    {
     "data": {
      "text/plain": [
       "[{'title': 'open ends',\n",
       "  'filter': 'femaleonly',\n",
       "  'columns': ['gender'],\n",
       "  'break_by': ['age'],\n",
       "  'incl_nan': False,\n",
       "  'drop_empty': True,\n",
       "  'replace': {}},\n",
       " {'title': 'lala',\n",
       "  'filter': 'men_only',\n",
       "  'columns': ['gender'],\n",
       "  'break_by': ['age'],\n",
       "  'incl_nan': False,\n",
       "  'drop_empty': True,\n",
       "  'replace': {}}]"
      ]
     },
     "execution_count": 11,
     "metadata": {},
     "output_type": "execute_result"
    }
   ],
   "source": [
    "b.verbatims"
   ]
  },
  {
   "cell_type": "code",
   "execution_count": 12,
   "metadata": {},
   "outputs": [
    {
     "data": {
      "text/html": [
       "<div>\n",
       "<table border=\"1\" class=\"dataframe\">\n",
       "  <thead>\n",
       "    <tr style=\"text-align: right;\">\n",
       "      <th>delimited set</th>\n",
       "      <th>codes</th>\n",
       "      <th>texts</th>\n",
       "      <th>missing</th>\n",
       "    </tr>\n",
       "    <tr>\n",
       "      <th>femaleonly: femaleonly</th>\n",
       "      <th></th>\n",
       "      <th></th>\n",
       "      <th></th>\n",
       "    </tr>\n",
       "  </thead>\n",
       "  <tbody>\n",
       "    <tr>\n",
       "      <th>0</th>\n",
       "      <td>0</td>\n",
       "      <td>keep</td>\n",
       "      <td></td>\n",
       "    </tr>\n",
       "    <tr>\n",
       "      <th>1</th>\n",
       "      <td>1</td>\n",
       "      <td>1</td>\n",
       "      <td></td>\n",
       "    </tr>\n",
       "  </tbody>\n",
       "</table>\n",
       "</div>"
      ],
      "text/plain": [
       "delimited set           codes texts missing\n",
       "femaleonly: femaleonly                     \n",
       "0                           0  keep        \n",
       "1                           1     1        "
      ]
     },
     "execution_count": 12,
     "metadata": {},
     "output_type": "execute_result"
    }
   ],
   "source": [
    "ds.describe(\"femaleonly\")"
   ]
  },
  {
   "cell_type": "code",
   "execution_count": 13,
   "metadata": {},
   "outputs": [
    {
     "data": {
      "text/html": [
       "<div>\n",
       "<table border=\"1\" class=\"dataframe\">\n",
       "  <thead>\n",
       "    <tr style=\"text-align: right;\">\n",
       "      <th>delimited set</th>\n",
       "      <th>codes</th>\n",
       "      <th>texts</th>\n",
       "      <th>missing</th>\n",
       "    </tr>\n",
       "    <tr>\n",
       "      <th>femaleonly: femaleonly</th>\n",
       "      <th></th>\n",
       "      <th></th>\n",
       "      <th></th>\n",
       "    </tr>\n",
       "  </thead>\n",
       "  <tbody>\n",
       "    <tr>\n",
       "      <th>0</th>\n",
       "      <td>0</td>\n",
       "      <td>keep</td>\n",
       "      <td></td>\n",
       "    </tr>\n",
       "    <tr>\n",
       "      <th>1</th>\n",
       "      <td>1</td>\n",
       "      <td>1</td>\n",
       "      <td></td>\n",
       "    </tr>\n",
       "  </tbody>\n",
       "</table>\n",
       "</div>"
      ],
      "text/plain": [
       "delimited set           codes texts missing\n",
       "femaleonly: femaleonly                     \n",
       "0                           0  keep        \n",
       "1                           1     1        "
      ]
     },
     "execution_count": 13,
     "metadata": {},
     "output_type": "execute_result"
    }
   ],
   "source": [
    "b.meta.describe(\"femaleonly\")"
   ]
  },
  {
   "cell_type": "code",
   "execution_count": 14,
   "metadata": {},
   "outputs": [
    {
     "data": {
      "text/plain": [
       "['record_number',\n",
       " 'unique_id',\n",
       " 'age',\n",
       " 'birth_day',\n",
       " 'birth_month',\n",
       " 'birth_year',\n",
       " 'gender',\n",
       " 'locality',\n",
       " 'ethnicity',\n",
       " 'religion',\n",
       " 'q1',\n",
       " 'q2',\n",
       " 'q2b',\n",
       " 'q3',\n",
       " 'q4',\n",
       " 'q5',\n",
       " 'q6',\n",
       " 'q7',\n",
       " 'q8',\n",
       " 'q8a',\n",
       " 'q9',\n",
       " 'q9a',\n",
       " 'Wave',\n",
       " 'weight',\n",
       " 'weight_a',\n",
       " 'weight_b',\n",
       " 'start_time',\n",
       " 'end_time',\n",
       " 'duration',\n",
       " 'visit_1',\n",
       " 'visit_2',\n",
       " 'visit_3',\n",
       " 'q14_1',\n",
       " 'q14_2',\n",
       " 'q14_3',\n",
       " 'RecordNo',\n",
       " 'men_only',\n",
       " 'femaleonly']"
      ]
     },
     "execution_count": 14,
     "metadata": {},
     "output_type": "execute_result"
    }
   ],
   "source": [
    "ds.variables()"
   ]
  },
  {
   "cell_type": "code",
   "execution_count": 15,
   "metadata": {},
   "outputs": [],
   "source": [
    "ds.set_hiding(\"q6\", 1, hide_values=False, axis=\"x\")"
   ]
  },
  {
   "cell_type": "code",
   "execution_count": 16,
   "metadata": {},
   "outputs": [
    {
     "data": {
      "text/plain": [
       "OrderedDict([('name', 'q6_1'),\n",
       "             ('parent', {'masks@q6': {'type': 'array'}}),\n",
       "             ('text',\n",
       "              OrderedDict([('en-GB',\n",
       "                            'How often do you take part in any of the following? - Exercise alone')])),\n",
       "             ('type', 'single'),\n",
       "             ('values', 'lib@values@q6'),\n",
       "             ('properties', {})])"
      ]
     },
     "execution_count": 16,
     "metadata": {},
     "output_type": "execute_result"
    }
   ],
   "source": [
    "ds._meta[\"columns\"][\"q6_1\"]"
   ]
  },
  {
   "cell_type": "code",
   "execution_count": 17,
   "metadata": {},
   "outputs": [
    {
     "data": {
      "text/plain": [
       "OrderedDict([('items',\n",
       "              [OrderedDict([('source', 'columns@q6_1'),\n",
       "                            ('text',\n",
       "                             OrderedDict([('en-GB', 'Exercise alone')]))]),\n",
       "               OrderedDict([('source', 'columns@q6_2'),\n",
       "                            ('text',\n",
       "                             OrderedDict([('en-GB',\n",
       "                                           'Join an exercise class')]))]),\n",
       "               OrderedDict([('source', 'columns@q6_3'),\n",
       "                            ('text',\n",
       "                             OrderedDict([('en-GB',\n",
       "                                           'Play any kind of team sport')]))])]),\n",
       "             ('name', 'q6'),\n",
       "             ('subtype', 'single'),\n",
       "             ('text',\n",
       "              OrderedDict([('en-GB',\n",
       "                            'How often do you take part in any of the following?')])),\n",
       "             ('type', 'array'),\n",
       "             ('values', 'lib@values@q6'),\n",
       "             ('properties', {}),\n",
       "             ('rules', {'x': {'dropx': {'values': ['q6_1']}}, 'y': {}})])"
      ]
     },
     "execution_count": 17,
     "metadata": {},
     "output_type": "execute_result"
    }
   ],
   "source": [
    "ds._meta[\"masks\"][\"q6\"]"
   ]
  },
  {
   "cell_type": "code",
   "execution_count": 18,
   "metadata": {},
   "outputs": [
    {
     "data": {
      "text/plain": [
       "{'dropx': {'values': ['q6_1']}}"
      ]
     },
     "execution_count": 18,
     "metadata": {},
     "output_type": "execute_result"
    }
   ],
   "source": [
    "ds.get_rules(\"q6\")"
   ]
  },
  {
   "cell_type": "code",
   "execution_count": 19,
   "metadata": {},
   "outputs": [
    {
     "data": {
      "text/plain": [
       "{'values': ['q6_1']}"
      ]
     },
     "execution_count": 19,
     "metadata": {},
     "output_type": "execute_result"
    }
   ],
   "source": [
    "ds.get_rules(\"q6\").pop(\"dropx\")"
   ]
  },
  {
   "cell_type": "code",
   "execution_count": 20,
   "metadata": {},
   "outputs": [
    {
     "data": {
      "text/plain": [
       "[('q1', ['@', 'gender', 'q2b']),\n",
       " ('q2', ['@', 'gender', 'q2b']),\n",
       " ('q2b', ['@', 'gender', 'q2b']),\n",
       " ('q3', ['@', 'gender', 'q2b']),\n",
       " ('q4', ['@', 'gender', 'q2b']),\n",
       " ('q5', ['@']),\n",
       " ('q5_1', ['@', 'gender', 'q2b']),\n",
       " ('q5_2', ['@', 'gender', 'q2b']),\n",
       " ('q5_3', ['@', 'gender', 'q2b']),\n",
       " ('q5_4', ['@', 'gender', 'q2b']),\n",
       " ('q5_5', ['@', 'gender', 'q2b']),\n",
       " ('q5_6', ['@', 'gender', 'q2b'])]"
      ]
     },
     "execution_count": 20,
     "metadata": {},
     "output_type": "execute_result"
    },
    {
     "data": {
      "text/plain": [
       "[('q1', ['@', 'gender', 'q2b']),\n",
       " ('q2', ['@', 'gender', 'q2b']),\n",
       " ('q2b', ['@', 'gender', 'q2b']),\n",
       " ('q3', ['@', 'gender', 'q2b']),\n",
       " ('q4', ['@', 'gender', 'q2b']),\n",
       " ('q5', ['@']),\n",
       " ('q5_1', ['@', 'gender', 'q2b']),\n",
       " ('q5_2', ['@', 'gender', 'q2b']),\n",
       " ('q5_3', ['@', 'gender', 'q2b']),\n",
       " ('q5_4', ['@', 'gender', 'q2b']),\n",
       " ('q5_5', ['@', 'gender', 'q2b']),\n",
       " ('q5_6', ['@', 'gender', 'q2b'])]"
      ]
     },
     "execution_count": 20,
     "metadata": {},
     "output_type": "execute_result"
    },
    {
     "data": {
      "text/plain": [
       "[('q1', ['gender', 'q2b']),\n",
       " ('q2', ['gender', 'q2b']),\n",
       " ('q2b', ['gender', 'q2b']),\n",
       " ('q3', ['gender', 'q2b']),\n",
       " ('q4', ['gender', 'q2b']),\n",
       " ('q5', ['@']),\n",
       " ('q5_1', ['gender', 'q2b']),\n",
       " ('q5_2', ['gender', 'q2b']),\n",
       " ('q5_3', ['gender', 'q2b']),\n",
       " ('q5_4', ['gender', 'q2b']),\n",
       " ('q5_5', ['gender', 'q2b']),\n",
       " ('q5_6', ['gender', 'q2b'])]"
      ]
     },
     "execution_count": 20,
     "metadata": {},
     "output_type": "execute_result"
    }
   ],
   "source": [
    "[('q1', ['@', 'gender', 'q2b']), ('q2', ['@', 'gender', 'q2b']), ('q2b', ['@', 'gender', 'q2b']), ('q3', ['@', 'gender', 'q2b']), ('q4', ['@', 'gender', 'q2b']), ('q5', ['@']), ('q5_1', ['@', 'gender', 'q2b']), ('q5_2', ['@', 'gender', 'q2b']), ('q5_3', ['@', 'gender', 'q2b']), ('q5_4', ['@', 'gender', 'q2b']), ('q5_5', ['@', 'gender', 'q2b']), ('q5_6', ['@', 'gender', 'q2b'])]\n",
    "[('q1', ['@', 'gender', 'q2b']), ('q2', ['@', 'gender', 'q2b']), ('q2b', ['@', 'gender', 'q2b']), ('q3', ['@', 'gender', 'q2b']), ('q4', ['@', 'gender', 'q2b']), ('q5', ['@']), ('q5_1', ['@', 'gender', 'q2b']), ('q5_2', ['@', 'gender', 'q2b']), ('q5_3', ['@', 'gender', 'q2b']), ('q5_4', ['@', 'gender', 'q2b']), ('q5_5', ['@', 'gender', 'q2b']), ('q5_6', ['@', 'gender', 'q2b'])]\n",
    "[('q1', ['gender', 'q2b']), ('q2', ['gender', 'q2b']), ('q2b', ['gender', 'q2b']), ('q3', ['gender', 'q2b']), ('q4', ['gender', 'q2b']), ('q5', ['@']), ('q5_1', ['gender', 'q2b']), ('q5_2', ['gender', 'q2b']), ('q5_3', ['gender', 'q2b']), ('q5_4', ['gender', 'q2b']), ('q5_5', ['gender', 'q2b']), ('q5_6', ['gender', 'q2b'])]\n"
   ]
  },
  {
   "cell_type": "code",
   "execution_count": 21,
   "metadata": {},
   "outputs": [
    {
     "ename": "RuntimeError",
     "evalue": "No active exception to reraise",
     "output_type": "error",
     "traceback": [
      "\u001b[0;31m---------------------------------------------------------------------------\u001b[0m",
      "\u001b[0;31mRuntimeError\u001b[0m                              Traceback (most recent call last)",
      "\u001b[0;32m<ipython-input-21-9c9a2cba73bf>\u001b[0m in \u001b[0;36m<module>\u001b[0;34m\u001b[0m\n\u001b[0;32m----> 1\u001b[0;31m \u001b[0;32mraise\u001b[0m\u001b[0;34m\u001b[0m\u001b[0;34m\u001b[0m\u001b[0m\n\u001b[0m",
      "\u001b[0;31mRuntimeError\u001b[0m: No active exception to reraise"
     ]
    }
   ],
   "source": [
    "raise"
   ]
  },
  {
   "cell_type": "code",
   "execution_count": null,
   "metadata": {},
   "outputs": [],
   "source": [
    "b.name\n",
    "batch[\"name\"]\n",
    "# ---------------------------\n",
    "print('*'*60) \n",
    "b.cell_items\n",
    "batch[\"cell_items\"]\n",
    "# ---------------------------\n",
    "print('*'*60) \n",
    "b.weights\n",
    "batch[\"weights\"]\n",
    "# ---------------------------\n",
    "print('*'*60) \n",
    "b.sigproperties\n",
    "batch[\"sigproperties\"]"
   ]
  },
  {
   "cell_type": "code",
   "execution_count": null,
   "metadata": {},
   "outputs": [],
   "source": [
    "ds.batches"
   ]
  },
  {
   "cell_type": "code",
   "execution_count": null,
   "metadata": {},
   "outputs": [],
   "source": [
    "b.downbreaks = ['q1', 'q2', 'q6', 'age']\n",
    "b.add_downbreak(['q1', 'q2', 'q6', 'age'])"
   ]
  },
  {
   "cell_type": "raw",
   "metadata": {},
   "source": [
    "b.crossbreaks = ['gender', 'q2']\n",
    "b.add_open_ends(['q8a', 'q9a'], 'RecordNo')\n",
    "b.set_filter('men_only')\n",
    "# b.weights = 'weight_a'"
   ]
  }
 ],
 "metadata": {
  "kernelspec": {
   "display_name": "Python 3",
   "language": "python",
   "name": "python3"
  },
  "language_info": {
   "codemirror_mode": {
    "name": "ipython",
    "version": 3
   },
   "file_extension": ".py",
   "mimetype": "text/x-python",
   "name": "python",
   "nbconvert_exporter": "python",
   "pygments_lexer": "ipython3",
   "version": "3.6.9"
  }
 },
 "nbformat": 4,
 "nbformat_minor": 2
}
