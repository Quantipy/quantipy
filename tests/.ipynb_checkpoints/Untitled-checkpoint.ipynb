{
 "cells": [
  {
   "cell_type": "code",
   "execution_count": 1,
   "metadata": {},
   "outputs": [],
   "source": [
    "import os\n",
    "import json\n",
    "import quantipy as qp\n",
    "load = qp.core.tools.functions.load_json\n",
    "save = qp.core.tools.functions.save_json"
   ]
  },
  {
   "cell_type": "code",
   "execution_count": 2,
   "metadata": {},
   "outputs": [],
   "source": [
    "NAME = \"engine_B.json\"\n",
    "PATH = os.path.join(os.getcwd(), \"data\", NAME)\n",
    "jsonf = load(PATH)"
   ]
  },
  {
   "cell_type": "code",
   "execution_count": 4,
   "metadata": {},
   "outputs": [],
   "source": [
    "del jsonf[\"columns\"][\"q4\"][\"sep\"]\n",
    "jsonf[\"columns\"][\"q4\"][\"values\"] = [\n",
    "    {\"value\": 1, \"text\": {\"en-GB\": \"Breakfast\", \"de-DE\": \"Frühstück\"}},\n",
    "    {\"value\": 2, \"text\": {\"en-GB\": \"Lunch\", \"de-DE\": \"Mittagessen\"}},\n",
    "    {\"value\": 3, \"text\": {\"en-GB\": \"Dinner\", \"de-DE\": \"Abendessen\"}},\n",
    "]\n"
   ]
  },
  {
   "cell_type": "code",
   "execution_count": 23,
   "metadata": {},
   "outputs": [],
   "source": [
    "jsonf[\"masks\"][\"cost\"][\"type\"] = \"array\"\n",
    "jsonf[\"masks\"][\"cost\"][\"subtype\"] = \"float\"\n",
    "jsonf[\"masks\"][\"q1\"][\"type\"] = \"array\"\n",
    "jsonf[\"masks\"][\"q1\"][\"subtype\"] = \"single\"\n",
    "jsonf[\"masks\"][\"q2\"][\"type\"] = \"array\"\n",
    "jsonf[\"masks\"][\"q2\"][\"subtype\"] = \"single\"\n",
    "jsonf[\"masks\"][\"q3\"][\"type\"] = \"array\"\n",
    "jsonf[\"masks\"][\"q3\"][\"subtype\"] = \"single\""
   ]
  },
  {
   "cell_type": "code",
   "execution_count": 24,
   "metadata": {},
   "outputs": [],
   "source": [
    "NAME = \"engine_B3.json\"\n",
    "PATH = os.path.join(os.getcwd(), \"data\", NAME)\n",
    "save(jsonf, PATH)"
   ]
  },
  {
   "cell_type": "code",
   "execution_count": null,
   "metadata": {},
   "outputs": [],
   "source": []
  }
 ],
 "metadata": {
  "kernelspec": {
   "display_name": "Python 3",
   "language": "python",
   "name": "python3"
  },
  "language_info": {
   "codemirror_mode": {
    "name": "ipython",
    "version": 3
   },
   "file_extension": ".py",
   "mimetype": "text/x-python",
   "name": "python",
   "nbconvert_exporter": "python",
   "pygments_lexer": "ipython3",
   "version": "3.6.9"
  }
 },
 "nbformat": 4,
 "nbformat_minor": 2
}
