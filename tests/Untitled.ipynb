{
 "cells": [
  {
   "cell_type": "code",
   "execution_count": 1,
   "metadata": {},
   "outputs": [
    {
     "name": "stdout",
     "output_type": "stream",
     "text": [
      "3.6.9 |Anaconda, Inc.| (default, Jul 30 2019, 19:07:31) \n",
      "[GCC 7.3.0]\n"
     ]
    }
   ],
   "source": [
    "import os\n",
    "import sys\n",
    "print(sys.version)\n",
    "from copy import deepcopy\n",
    "\n",
    "from IPython.core.interactiveshell import InteractiveShell\n",
    "InteractiveShell.ast_node_interactivity = \"all\"\n",
    "\n",
    "import quantipy as qp"
   ]
  },
  {
   "cell_type": "code",
   "execution_count": 2,
   "metadata": {},
   "outputs": [],
   "source": [
    "NAME = \"Example Data (A)\"\n",
    "DATA = os.path.join(os.getcwd(), \"data\")\n",
    "\n",
    "name = NAME\n",
    "path = DATA"
   ]
  },
  {
   "cell_type": "code",
   "execution_count": 3,
   "metadata": {},
   "outputs": [
    {
     "ename": "AttributeError",
     "evalue": "module 'quantipy.core.tools.functions' has no attribute '_merge_delimited_sets'",
     "output_type": "error",
     "traceback": [
      "\u001b[0;31m---------------------------------------------------------------------------\u001b[0m",
      "\u001b[0;31mAttributeError\u001b[0m                            Traceback (most recent call last)",
      "\u001b[0;32m<ipython-input-3-1bfe4a219424>\u001b[0m in \u001b[0;36m<module>\u001b[0;34m\u001b[0m\n\u001b[0;32m----> 1\u001b[0;31m \u001b[0mqp\u001b[0m\u001b[0;34m.\u001b[0m\u001b[0mcore\u001b[0m\u001b[0;34m.\u001b[0m\u001b[0mtools\u001b[0m\u001b[0;34m.\u001b[0m\u001b[0mfunctions\u001b[0m\u001b[0;34m.\u001b[0m\u001b[0m_merge_delimited_sets\u001b[0m\u001b[0;34m\u001b[0m\u001b[0;34m\u001b[0m\u001b[0m\n\u001b[0m",
      "\u001b[0;31mAttributeError\u001b[0m: module 'quantipy.core.tools.functions' has no attribute '_merge_delimited_sets'"
     ]
    }
   ],
   "source": [
    "qp.core.tools.functions._merge_delimited_sets"
   ]
  },
  {
   "cell_type": "code",
   "execution_count": null,
   "metadata": {},
   "outputs": [],
   "source": [
    "if 0:\n",
    "    jj = qp.core.tools.functions.load_json(\"data/{}.json\".format(NAME))\n",
    "    jj[\"sets\"][\"batches\"][\"old_add_batch\"] = deepcopy(jj[\"sets\"][\"batches\"][\"old_batch\"])\n",
    "    old = jj[\"sets\"][\"batches\"][\"old_batch\"]\n",
    "    add = jj[\"sets\"][\"batches\"][\"old_add_batch\"]\n",
    "    old[\"additions\"] = [\"old_add_batch\"]\n",
    "    add[\"additional\"] = True\n",
    "    add[\"name\"] = \"old_add_batch\"\n",
    "    qp.core.tools.functions.save_json(jj, \"data/{}.json\".format(NAME))"
   ]
  },
  {
   "cell_type": "code",
   "execution_count": 4,
   "metadata": {
    "scrolled": false
   },
   "outputs": [
    {
     "name": "stderr",
     "output_type": "stream",
     "text": [
      "INFO : quantipy.core.meta add_meta --> Overwriting meta for '@1'\n",
      "INFO : quantipy.core.dataset _verbose_io --> Load qp.DataSet from 'quantipy' data: 'Example Data (A)' ('/home/kerstin/Desktop/dev/quantipy/tests/data')\n"
     ]
    }
   ],
   "source": [
    "ds = qp.DataSet.from_quantipy(name, path)"
   ]
  },
  {
   "cell_type": "code",
   "execution_count": 5,
   "metadata": {},
   "outputs": [],
   "source": [
    "import numpy as np"
   ]
  },
  {
   "cell_type": "code",
   "execution_count": 6,
   "metadata": {},
   "outputs": [],
   "source": [
    "la = ds[\"q2\"].copy()\n",
    "la[0] = np.NaN"
   ]
  },
  {
   "cell_type": "code",
   "execution_count": 7,
   "metadata": {},
   "outputs": [
    {
     "ename": "NameError",
     "evalue": "name 'araise' is not defined",
     "output_type": "error",
     "traceback": [
      "\u001b[0;31m---------------------------------------------------------------------------\u001b[0m",
      "\u001b[0;31mNameError\u001b[0m                                 Traceback (most recent call last)",
      "\u001b[0;32m<ipython-input-7-634ef6ac4e2f>\u001b[0m in \u001b[0;36m<module>\u001b[0;34m\u001b[0m\n\u001b[0;32m----> 1\u001b[0;31m \u001b[0maraise\u001b[0m\u001b[0;34m\u001b[0m\u001b[0;34m\u001b[0m\u001b[0m\n\u001b[0m",
      "\u001b[0;31mNameError\u001b[0m: name 'araise' is not defined"
     ]
    }
   ],
   "source": [
    "araise"
   ]
  },
  {
   "cell_type": "code",
   "execution_count": 8,
   "metadata": {},
   "outputs": [
    {
     "name": "stderr",
     "output_type": "stream",
     "text": [
      "INFO : quantipy.core.batch __init__ --> Load batch: old_add_batch\n"
     ]
    },
    {
     "data": {
      "text/plain": [
       "['old_batch']"
      ]
     },
     "execution_count": 8,
     "metadata": {},
     "output_type": "execute_result"
    },
    {
     "data": {
      "text/plain": [
       "[]"
      ]
     },
     "execution_count": 8,
     "metadata": {},
     "output_type": "execute_result"
    }
   ],
   "source": [
    "b = ds.get_batch(\"old_add_batch\")\n",
    "b.mains\n",
    "b.additions"
   ]
  },
  {
   "cell_type": "code",
   "execution_count": 14,
   "metadata": {},
   "outputs": [],
   "source": [
    "b.downbreaks = [\"gender\", \"age\", \"q2\", \"q5\"]"
   ]
  },
  {
   "cell_type": "code",
   "execution_count": null,
   "metadata": {},
   "outputs": [],
   "source": [
    "b.del_section(\"test\")"
   ]
  },
  {
   "cell_type": "code",
   "execution_count": 15,
   "metadata": {},
   "outputs": [],
   "source": [
    "b.set_section(\"age\", \"test\")"
   ]
  },
  {
   "cell_type": "code",
   "execution_count": null,
   "metadata": {},
   "outputs": [],
   "source": []
  },
  {
   "cell_type": "code",
   "execution_count": 16,
   "metadata": {},
   "outputs": [
    {
     "data": {
      "text/plain": [
       "OrderedDict([('test',\n",
       "              ['age',\n",
       "               'q2',\n",
       "               'q5',\n",
       "               'q5_1',\n",
       "               'q5_2',\n",
       "               'q5_3',\n",
       "               'q5_4',\n",
       "               'q5_5',\n",
       "               'q5_6'])])"
      ]
     },
     "execution_count": 16,
     "metadata": {},
     "output_type": "execute_result"
    }
   ],
   "source": [
    "b.sections"
   ]
  },
  {
   "cell_type": "code",
   "execution_count": null,
   "metadata": {},
   "outputs": [],
   "source": [
    "b"
   ]
  },
  {
   "cell_type": "code",
   "execution_count": null,
   "metadata": {
    "scrolled": false
   },
   "outputs": [],
   "source": [
    "setattr(b.build_info, {}, 1)"
   ]
  },
  {
   "cell_type": "code",
   "execution_count": null,
   "metadata": {},
   "outputs": [],
   "source": [
    "b.__setattr__(\"build_info\", 'lala')"
   ]
  },
  {
   "cell_type": "code",
   "execution_count": null,
   "metadata": {},
   "outputs": [],
   "source": [
    "help(setattr(b, \"build_info\"))"
   ]
  },
  {
   "cell_type": "code",
   "execution_count": null,
   "metadata": {},
   "outputs": [],
   "source": [
    "help(setattr)"
   ]
  },
  {
   "cell_type": "code",
   "execution_count": null,
   "metadata": {},
   "outputs": [],
   "source": [
    "raise"
   ]
  },
  {
   "cell_type": "code",
   "execution_count": null,
   "metadata": {},
   "outputs": [],
   "source": [
    "b.clone(\"old_batch\")"
   ]
  },
  {
   "cell_type": "code",
   "execution_count": null,
   "metadata": {},
   "outputs": [],
   "source": [
    "b = ds.get_batch(\"old_batch\")\n",
    "b.mains\n",
    "b.additions"
   ]
  },
  {
   "cell_type": "code",
   "execution_count": null,
   "metadata": {},
   "outputs": [],
   "source": [
    "raise"
   ]
  },
  {
   "cell_type": "code",
   "execution_count": null,
   "metadata": {},
   "outputs": [],
   "source": [
    "name = \"test\"\n",
    "b = qp.Batch(ds, name, 'c', 'weight', .05)\n",
    "batch = ds._meta[\"sets\"][\"batches\"][name]\n"
   ]
  },
  {
   "cell_type": "code",
   "execution_count": null,
   "metadata": {},
   "outputs": [],
   "source": [
    "b.filter = (\"men_only\", {\"gender\": 1})"
   ]
  },
  {
   "cell_type": "code",
   "execution_count": null,
   "metadata": {},
   "outputs": [],
   "source": [
    "b.filter"
   ]
  },
  {
   "cell_type": "code",
   "execution_count": null,
   "metadata": {},
   "outputs": [],
   "source": [
    "b.verbatims"
   ]
  },
  {
   "cell_type": "code",
   "execution_count": null,
   "metadata": {},
   "outputs": [],
   "source": [
    "b.set_verbatims(\"gender\", \"age\", filter_by=(\"female only\", {\"gender\": 2}))"
   ]
  },
  {
   "cell_type": "code",
   "execution_count": null,
   "metadata": {},
   "outputs": [],
   "source": [
    "b.set_verbatims(\"gender\", \"age\", title=\"lala\")"
   ]
  },
  {
   "cell_type": "code",
   "execution_count": null,
   "metadata": {},
   "outputs": [],
   "source": [
    "b.verbatims"
   ]
  },
  {
   "cell_type": "code",
   "execution_count": null,
   "metadata": {},
   "outputs": [],
   "source": [
    "b.del_verbatims(\"open ends\")"
   ]
  },
  {
   "cell_type": "code",
   "execution_count": null,
   "metadata": {},
   "outputs": [],
   "source": [
    "b.verbatims"
   ]
  },
  {
   "cell_type": "code",
   "execution_count": null,
   "metadata": {},
   "outputs": [],
   "source": [
    "ds.describe(\"femaleonly\")"
   ]
  },
  {
   "cell_type": "code",
   "execution_count": null,
   "metadata": {},
   "outputs": [],
   "source": [
    "b.meta.describe(\"femaleonly\")"
   ]
  },
  {
   "cell_type": "code",
   "execution_count": null,
   "metadata": {},
   "outputs": [],
   "source": [
    "ds.variables()"
   ]
  },
  {
   "cell_type": "code",
   "execution_count": null,
   "metadata": {},
   "outputs": [],
   "source": [
    "ds.set_hiding(\"q6\", 1, hide_values=False, axis=\"x\")"
   ]
  },
  {
   "cell_type": "code",
   "execution_count": null,
   "metadata": {},
   "outputs": [],
   "source": [
    "ds._meta[\"columns\"][\"q6_1\"]"
   ]
  },
  {
   "cell_type": "code",
   "execution_count": null,
   "metadata": {},
   "outputs": [],
   "source": [
    "ds._meta[\"masks\"][\"q6\"]"
   ]
  },
  {
   "cell_type": "code",
   "execution_count": null,
   "metadata": {},
   "outputs": [],
   "source": [
    "ds.get_rules(\"q6\")"
   ]
  },
  {
   "cell_type": "code",
   "execution_count": null,
   "metadata": {},
   "outputs": [],
   "source": [
    "ds.get_rules(\"q6\").pop(\"dropx\")"
   ]
  },
  {
   "cell_type": "code",
   "execution_count": null,
   "metadata": {},
   "outputs": [],
   "source": [
    "[('q1', ['@', 'gender', 'q2b']), ('q2', ['@', 'gender', 'q2b']), ('q2b', ['@', 'gender', 'q2b']), ('q3', ['@', 'gender', 'q2b']), ('q4', ['@', 'gender', 'q2b']), ('q5', ['@']), ('q5_1', ['@', 'gender', 'q2b']), ('q5_2', ['@', 'gender', 'q2b']), ('q5_3', ['@', 'gender', 'q2b']), ('q5_4', ['@', 'gender', 'q2b']), ('q5_5', ['@', 'gender', 'q2b']), ('q5_6', ['@', 'gender', 'q2b'])]\n",
    "[('q1', ['@', 'gender', 'q2b']), ('q2', ['@', 'gender', 'q2b']), ('q2b', ['@', 'gender', 'q2b']), ('q3', ['@', 'gender', 'q2b']), ('q4', ['@', 'gender', 'q2b']), ('q5', ['@']), ('q5_1', ['@', 'gender', 'q2b']), ('q5_2', ['@', 'gender', 'q2b']), ('q5_3', ['@', 'gender', 'q2b']), ('q5_4', ['@', 'gender', 'q2b']), ('q5_5', ['@', 'gender', 'q2b']), ('q5_6', ['@', 'gender', 'q2b'])]\n",
    "[('q1', ['gender', 'q2b']), ('q2', ['gender', 'q2b']), ('q2b', ['gender', 'q2b']), ('q3', ['gender', 'q2b']), ('q4', ['gender', 'q2b']), ('q5', ['@']), ('q5_1', ['gender', 'q2b']), ('q5_2', ['gender', 'q2b']), ('q5_3', ['gender', 'q2b']), ('q5_4', ['gender', 'q2b']), ('q5_5', ['gender', 'q2b']), ('q5_6', ['gender', 'q2b'])]\n"
   ]
  },
  {
   "cell_type": "code",
   "execution_count": null,
   "metadata": {},
   "outputs": [],
   "source": [
    "raise"
   ]
  },
  {
   "cell_type": "code",
   "execution_count": null,
   "metadata": {},
   "outputs": [],
   "source": [
    "b.name\n",
    "batch[\"name\"]\n",
    "# ---------------------------\n",
    "print('*'*60) \n",
    "b.cell_items\n",
    "batch[\"cell_items\"]\n",
    "# ---------------------------\n",
    "print('*'*60) \n",
    "b.weights\n",
    "batch[\"weights\"]\n",
    "# ---------------------------\n",
    "print('*'*60) \n",
    "b.sigproperties\n",
    "batch[\"sigproperties\"]"
   ]
  },
  {
   "cell_type": "code",
   "execution_count": null,
   "metadata": {},
   "outputs": [],
   "source": [
    "ds.batches"
   ]
  },
  {
   "cell_type": "code",
   "execution_count": null,
   "metadata": {},
   "outputs": [],
   "source": [
    "b.downbreaks = ['q1', 'q2', 'q6', 'age']\n",
    "b.add_downbreak(['q1', 'q2', 'q6', 'age'])"
   ]
  },
  {
   "cell_type": "raw",
   "metadata": {},
   "source": [
    "b.crossbreaks = ['gender', 'q2']\n",
    "b.add_open_ends(['q8a', 'q9a'], 'RecordNo')\n",
    "b.set_filter('men_only')\n",
    "# b.weights = 'weight_a'"
   ]
  }
 ],
 "metadata": {
  "kernelspec": {
   "display_name": "Python 3",
   "language": "python",
   "name": "python3"
  },
  "language_info": {
   "codemirror_mode": {
    "name": "ipython",
    "version": 3
   },
   "file_extension": ".py",
   "mimetype": "text/x-python",
   "name": "python",
   "nbconvert_exporter": "python",
   "pygments_lexer": "ipython3",
   "version": "3.6.9"
  }
 },
 "nbformat": 4,
 "nbformat_minor": 2
}
