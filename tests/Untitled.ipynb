{
 "cells": [
  {
   "cell_type": "code",
   "execution_count": 1,
   "metadata": {},
   "outputs": [],
   "source": [
    "import os\n",
    "import quantipy as qp"
   ]
  },
  {
   "cell_type": "code",
   "execution_count": 2,
   "metadata": {},
   "outputs": [],
   "source": [
    "NAME = \"Example Data (A)\"\n",
    "DATA = os.path.join(os.path.dirname(os.getcwd()), \"tests/data\")"
   ]
  },
  {
   "cell_type": "code",
   "execution_count": 3,
   "metadata": {},
   "outputs": [
    {
     "name": "stderr",
     "output_type": "stream",
     "text": [
      "INFO : quantipy.core.dataset _verbose_io --> Load qp.DataSet from 'quantipy' data: 'Example Data (A)' ('/home/kerstin/Desktop/dev/quantipy/tests/data')\n"
     ]
    }
   ],
   "source": [
    "ds = qp.DataSet.from_quantipy(NAME, DATA)\n",
    "stack = qp.Stack(NAME, add_data={NAME: {\"dataset\": ds}})"
   ]
  },
  {
   "cell_type": "code",
   "execution_count": 10,
   "metadata": {},
   "outputs": [],
   "source": [
    "ds.set_sorting(\"q8\")"
   ]
  },
  {
   "cell_type": "code",
   "execution_count": 11,
   "metadata": {},
   "outputs": [
    {
     "data": {
      "text/html": [
       "<div>\n",
       "<table border=\"1\" class=\"dataframe\">\n",
       "  <thead>\n",
       "    <tr>\n",
       "      <th></th>\n",
       "      <th>Question</th>\n",
       "      <th>gender</th>\n",
       "    </tr>\n",
       "    <tr>\n",
       "      <th></th>\n",
       "      <th>Values</th>\n",
       "      <th>@</th>\n",
       "    </tr>\n",
       "    <tr>\n",
       "      <th>Question</th>\n",
       "      <th>Values</th>\n",
       "      <th></th>\n",
       "    </tr>\n",
       "  </thead>\n",
       "  <tbody>\n",
       "    <tr>\n",
       "      <th rowspan=\"2\" valign=\"top\">gender</th>\n",
       "      <th>1</th>\n",
       "      <td>3952.0</td>\n",
       "    </tr>\n",
       "    <tr>\n",
       "      <th>2</th>\n",
       "      <td>4303.0</td>\n",
       "    </tr>\n",
       "  </tbody>\n",
       "</table>\n",
       "</div>"
      ],
      "text/plain": [
       "Question         gender\n",
       "Values                @\n",
       "Question Values        \n",
       "gender   1       3952.0\n",
       "         2       4303.0"
      ]
     },
     "execution_count": 11,
     "metadata": {},
     "output_type": "execute_result"
    }
   ],
   "source": [
    "stack.add_link(NAME, None, \"gender\", \"@\")\n",
    "link = stack[NAME][None][\"gender\"][\"@\"]\n",
    "link.crosstab(rules=False)"
   ]
  },
  {
   "cell_type": "code",
   "execution_count": 12,
   "metadata": {},
   "outputs": [
    {
     "data": {
      "text/html": [
       "<div>\n",
       "<table border=\"1\" class=\"dataframe\">\n",
       "  <thead>\n",
       "    <tr>\n",
       "      <th></th>\n",
       "      <th>Question</th>\n",
       "      <th colspan=\"7\" halign=\"left\">q8</th>\n",
       "    </tr>\n",
       "    <tr>\n",
       "      <th></th>\n",
       "      <th>Values</th>\n",
       "      <th>1</th>\n",
       "      <th>2</th>\n",
       "      <th>3</th>\n",
       "      <th>4</th>\n",
       "      <th>5</th>\n",
       "      <th>96</th>\n",
       "      <th>98</th>\n",
       "    </tr>\n",
       "    <tr>\n",
       "      <th>Question</th>\n",
       "      <th>Values</th>\n",
       "      <th></th>\n",
       "      <th></th>\n",
       "      <th></th>\n",
       "      <th></th>\n",
       "      <th></th>\n",
       "      <th></th>\n",
       "      <th></th>\n",
       "    </tr>\n",
       "  </thead>\n",
       "  <tbody>\n",
       "    <tr>\n",
       "      <th rowspan=\"2\" valign=\"top\">gender</th>\n",
       "      <th>1</th>\n",
       "      <td>473.0</td>\n",
       "      <td>112.0</td>\n",
       "      <td>293.0</td>\n",
       "      <td>507.0</td>\n",
       "      <td>636.0</td>\n",
       "      <td>165.0</td>\n",
       "      <td>26.0</td>\n",
       "    </tr>\n",
       "    <tr>\n",
       "      <th>2</th>\n",
       "      <td>476.0</td>\n",
       "      <td>104.0</td>\n",
       "      <td>302.0</td>\n",
       "      <td>463.0</td>\n",
       "      <td>599.0</td>\n",
       "      <td>118.0</td>\n",
       "      <td>23.0</td>\n",
       "    </tr>\n",
       "  </tbody>\n",
       "</table>\n",
       "</div>"
      ],
      "text/plain": [
       "Question            q8                                         \n",
       "Values              1      2      3      4      5      96    98\n",
       "Question Values                                                \n",
       "gender   1       473.0  112.0  293.0  507.0  636.0  165.0  26.0\n",
       "         2       476.0  104.0  302.0  463.0  599.0  118.0  23.0"
      ]
     },
     "execution_count": 12,
     "metadata": {},
     "output_type": "execute_result"
    }
   ],
   "source": [
    "stack.add_link(NAME, None, \"gender\", \"q8\")\n",
    "link = stack[NAME][None][\"gender\"][\"q8\"]\n",
    "link.crosstab(rules=False)"
   ]
  },
  {
   "cell_type": "code",
   "execution_count": 5,
   "metadata": {},
   "outputs": [
    {
     "name": "stdout",
     "output_type": "stream",
     "text": [
      "['x', 'y']\n"
     ]
    },
    {
     "data": {
      "text/html": [
       "<div>\n",
       "<table border=\"1\" class=\"dataframe\">\n",
       "  <thead>\n",
       "    <tr>\n",
       "      <th></th>\n",
       "      <th>Question</th>\n",
       "      <th colspan=\"2\" halign=\"left\">gender</th>\n",
       "    </tr>\n",
       "    <tr>\n",
       "      <th></th>\n",
       "      <th>Values</th>\n",
       "      <th>1</th>\n",
       "      <th>2</th>\n",
       "    </tr>\n",
       "    <tr>\n",
       "      <th>Question</th>\n",
       "      <th>Values</th>\n",
       "      <th></th>\n",
       "      <th></th>\n",
       "    </tr>\n",
       "  </thead>\n",
       "  <tbody>\n",
       "    <tr>\n",
       "      <th>gender</th>\n",
       "      <th>@</th>\n",
       "      <td>3952.0</td>\n",
       "      <td>4303.0</td>\n",
       "    </tr>\n",
       "  </tbody>\n",
       "</table>\n",
       "</div>"
      ],
      "text/plain": [
       "Question         gender        \n",
       "Values                1       2\n",
       "Question Values                \n",
       "gender   @       3952.0  4303.0"
      ]
     },
     "execution_count": 5,
     "metadata": {},
     "output_type": "execute_result"
    }
   ],
   "source": [
    "stack.add_link(NAME, None, \"@\", \"gender\")\n",
    "link = stack[NAME][None][\"@\"][\"gender\"]\n",
    "link.crosstab(rules=True)"
   ]
  },
  {
   "cell_type": "code",
   "execution_count": 6,
   "metadata": {},
   "outputs": [
    {
     "ename": "RuntimeError",
     "evalue": "No active exception to reraise",
     "output_type": "error",
     "traceback": [
      "\u001b[0;31m---------------------------------------------------------------------------\u001b[0m",
      "\u001b[0;31mRuntimeError\u001b[0m                              Traceback (most recent call last)",
      "\u001b[0;32m<ipython-input-6-9c9a2cba73bf>\u001b[0m in \u001b[0;36m<module>\u001b[0;34m\u001b[0m\n\u001b[0;32m----> 1\u001b[0;31m \u001b[0;32mraise\u001b[0m\u001b[0;34m\u001b[0m\u001b[0;34m\u001b[0m\u001b[0m\n\u001b[0m",
      "\u001b[0;31mRuntimeError\u001b[0m: No active exception to reraise"
     ]
    }
   ],
   "source": [
    "raise"
   ]
  },
  {
   "cell_type": "code",
   "execution_count": null,
   "metadata": {
    "scrolled": true
   },
   "outputs": [],
   "source": [
    "for k, v in link.items():\n",
    "    print('*'*60)\n",
    "    print(k)\n",
    "    print(v.dataframe)"
   ]
  },
  {
   "cell_type": "code",
   "execution_count": null,
   "metadata": {},
   "outputs": [],
   "source": [
    "link.crosstab()"
   ]
  },
  {
   "cell_type": "code",
   "execution_count": null,
   "metadata": {},
   "outputs": [],
   "source": [
    "link"
   ]
  },
  {
   "cell_type": "code",
   "execution_count": null,
   "metadata": {},
   "outputs": [],
   "source": [
    "raise"
   ]
  },
  {
   "cell_type": "code",
   "execution_count": null,
   "metadata": {},
   "outputs": [],
   "source": [
    "import os\n",
    "import json\n",
    "import quantipy as qp\n",
    "load = qp.core.tools.functions.load_json\n",
    "save = qp.core.tools.functions.save_json"
   ]
  },
  {
   "cell_type": "code",
   "execution_count": null,
   "metadata": {},
   "outputs": [],
   "source": [
    "NAME = \"engine_B.json\"\n",
    "PATH = os.path.join(os.getcwd(), \"data\", NAME)\n",
    "jsonf = load(PATH)"
   ]
  },
  {
   "cell_type": "code",
   "execution_count": null,
   "metadata": {},
   "outputs": [],
   "source": [
    "del jsonf[\"columns\"][\"q4\"][\"sep\"]\n",
    "jsonf[\"columns\"][\"q4\"][\"values\"] = [\n",
    "    {\"value\": 1, \"text\": {\"en-GB\": \"Breakfast\", \"de-DE\": \"Frühstück\"}},\n",
    "    {\"value\": 2, \"text\": {\"en-GB\": \"Lunch\", \"de-DE\": \"Mittagessen\"}},\n",
    "    {\"value\": 3, \"text\": {\"en-GB\": \"Dinner\", \"de-DE\": \"Abendessen\"}},\n",
    "]\n"
   ]
  },
  {
   "cell_type": "code",
   "execution_count": null,
   "metadata": {},
   "outputs": [],
   "source": [
    "jsonf[\"masks\"][\"cost\"][\"type\"] = \"array\"\n",
    "jsonf[\"masks\"][\"cost\"][\"subtype\"] = \"float\"\n",
    "jsonf[\"masks\"][\"q1\"][\"type\"] = \"array\"\n",
    "jsonf[\"masks\"][\"q1\"][\"subtype\"] = \"single\"\n",
    "jsonf[\"masks\"][\"q2\"][\"type\"] = \"array\"\n",
    "jsonf[\"masks\"][\"q2\"][\"subtype\"] = \"single\"\n",
    "jsonf[\"masks\"][\"q3\"][\"type\"] = \"array\"\n",
    "jsonf[\"masks\"][\"q3\"][\"subtype\"] = \"single\""
   ]
  },
  {
   "cell_type": "code",
   "execution_count": null,
   "metadata": {},
   "outputs": [],
   "source": [
    "NAME = \"engine_B3.json\"\n",
    "PATH = os.path.join(os.getcwd(), \"data\", NAME)\n",
    "save(jsonf, PATH)"
   ]
  },
  {
   "cell_type": "code",
   "execution_count": null,
   "metadata": {},
   "outputs": [],
   "source": []
  }
 ],
 "metadata": {
  "kernelspec": {
   "display_name": "Python 3",
   "language": "python",
   "name": "python3"
  },
  "language_info": {
   "codemirror_mode": {
    "name": "ipython",
    "version": 3
   },
   "file_extension": ".py",
   "mimetype": "text/x-python",
   "name": "python",
   "nbconvert_exporter": "python",
   "pygments_lexer": "ipython3",
   "version": "3.6.9"
  }
 },
 "nbformat": 4,
 "nbformat_minor": 2
}
